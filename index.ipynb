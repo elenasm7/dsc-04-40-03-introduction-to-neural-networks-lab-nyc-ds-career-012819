{
 "cells": [
  {
   "cell_type": "markdown",
   "metadata": {},
   "source": [
    "# Introduction to Neural Networks - Lab"
   ]
  },
  {
   "cell_type": "markdown",
   "metadata": {},
   "source": [
    "## Introduction"
   ]
  },
  {
   "cell_type": "markdown",
   "metadata": {},
   "source": [
    "Congratulations, you made it to your first lab! In this lab, you'll practice everything you have learned during the lecture. We know there is quite a bit of math involved, but don't worry! Using Python and trying things out yourself will actually make a lot of things much more clear! Before we start, let's load some necessary libraries so we can import our data."
   ]
  },
  {
   "cell_type": "markdown",
   "metadata": {},
   "source": [
    "## Objectives\n",
    "\n",
    "You will be able to:\n",
    "* Import images using Keras\n",
    "* Build a simple neural network"
   ]
  },
  {
   "cell_type": "markdown",
   "metadata": {},
   "source": [
    "As usual, we'll start by importing the necessary packages that we'll use in this lab."
   ]
  },
  {
   "cell_type": "code",
   "execution_count": 3,
   "metadata": {},
   "outputs": [
    {
     "name": "stderr",
     "output_type": "stream",
     "text": [
      "Using TensorFlow backend.\n"
     ]
    }
   ],
   "source": [
    "from IPython.display import display, Image\n",
    "from IPython.display import display \n",
    "from PIL import Image\n",
    "from keras.preprocessing.image import ImageDataGenerator, array_to_img, img_to_array, load_img\n",
    "import numpy as np\n",
    "import os\n"
   ]
  },
  {
   "cell_type": "markdown",
   "metadata": {},
   "source": [
    "In this lab, you'll get a bunch of images, and the purpose is to correctly classify these images as \"Santa\", meaning that Santa is present on the image or \"not Santa\" meaning that something else is in the images. \n",
    "\n",
    "If you have a look at this github repository, you'll notice that the images are simply stored in .jpeg-files and stored under the folder `/data`. Luckily, `keras` had great modules that make importing images stored in this type of format easy. We'll do this for you in the code below.\n",
    "\n",
    "The images in the `/data` folder have various resultions. We will reshape them so they are all have 64 x 64 pixels."
   ]
  },
  {
   "cell_type": "code",
   "execution_count": 2,
   "metadata": {},
   "outputs": [
    {
     "name": "stdout",
     "output_type": "stream",
     "text": [
      "Collecting pillow\n",
      "\u001b[?25l  Downloading https://files.pythonhosted.org/packages/d2/c2/f84b1e57416755e967236468dcfb0fad7fd911f707185efc4ba8834a1a94/Pillow-6.0.0-cp36-cp36m-manylinux1_x86_64.whl (2.0MB)\n",
      "\u001b[K    100% |████████████████████████████████| 2.0MB 15.0MB/s ta 0:00:01\n",
      "\u001b[31msmart-open 1.8.0 requires bz2file, which is not installed.\u001b[0m\n",
      "\u001b[31mnltk 3.4 requires singledispatch, which is not installed.\u001b[0m\n",
      "\u001b[?25hInstalling collected packages: pillow\n",
      "Successfully installed pillow-6.0.0\n",
      "\u001b[33mYou are using pip version 10.0.1, however version 19.0.3 is available.\n",
      "You should consider upgrading via the 'pip install --upgrade pip' command.\u001b[0m\n"
     ]
    }
   ],
   "source": [
    "!pip install pillow"
   ]
  },
  {
   "cell_type": "code",
   "execution_count": 4,
   "metadata": {},
   "outputs": [
    {
     "name": "stdout",
     "output_type": "stream",
     "text": [
      "Found 132 images belonging to 2 classes.\n",
      "Found 790 images belonging to 2 classes.\n"
     ]
    }
   ],
   "source": [
    "# directory path\n",
    "train_data_dir = 'data/train'\n",
    "test_data_dir = 'data/validation'\n",
    "\n",
    "# get all the data in the directory data/validation (132 images), and reshape them\n",
    "test_generator = ImageDataGenerator().flow_from_directory(\n",
    "        test_data_dir, \n",
    "        target_size=(64, 64), batch_size=132)\n",
    "\n",
    "# get all the data in the directory data/train (790 images), and reshape them\n",
    "train_generator = ImageDataGenerator().flow_from_directory(\n",
    "        train_data_dir, \n",
    "        target_size=(64, 64), batch_size=790)\n",
    "\n",
    "# create the data sets\n",
    "train_images, train_labels = next(train_generator)\n",
    "test_images, test_labels = next(test_generator)"
   ]
  },
  {
   "cell_type": "markdown",
   "metadata": {},
   "source": [
    "## Inspecting and preparing the data"
   ]
  },
  {
   "cell_type": "markdown",
   "metadata": {},
   "source": [
    "## Look at some images"
   ]
  },
  {
   "cell_type": "markdown",
   "metadata": {},
   "source": [
    "Note that we have 4 numpy arrays now: `train_images`, `train_labels`, `test_images`, `test_labels`. We'll need to make some changes to the data in order to make them workable, but before we do anything else, let's have a look at some of the images we loaded. We'll look at some images in train_images. You can use `array_to_img()` from `keras.processing.image` on any `train_image` (select any train_image by doing `train_image[index]` to look at it."
   ]
  },
  {
   "cell_type": "code",
   "execution_count": 5,
   "metadata": {},
   "outputs": [
    {
     "data": {
      "text/plain": [
       "array([[[184., 178., 154.],\n",
       "        [124., 116.,  95.],\n",
       "        [115., 117.,  95.],\n",
       "        ...,\n",
       "        [ 77.,  75.,  60.],\n",
       "        [111., 109.,  97.],\n",
       "        [103., 101.,  88.]],\n",
       "\n",
       "       [[148., 145., 128.],\n",
       "        [131., 124., 106.],\n",
       "        [ 82.,  81.,  63.],\n",
       "        ...,\n",
       "        [158., 154., 117.],\n",
       "        [128., 121., 102.],\n",
       "        [117., 116.,  98.]],\n",
       "\n",
       "       [[111., 108., 103.],\n",
       "        [131., 131., 107.],\n",
       "        [146., 128., 108.],\n",
       "        ...,\n",
       "        [ 75.,  72.,  57.],\n",
       "        [ 83.,  79.,  70.],\n",
       "        [174., 168., 154.]],\n",
       "\n",
       "       ...,\n",
       "\n",
       "       [[178., 184., 200.],\n",
       "        [186., 192., 206.],\n",
       "        [200.,  41.,  38.],\n",
       "        ...,\n",
       "        [239., 233., 219.],\n",
       "        [241., 235., 221.],\n",
       "        [206., 186., 153.]],\n",
       "\n",
       "       [[174., 181., 199.],\n",
       "        [179., 184., 203.],\n",
       "        [209.,  45.,  56.],\n",
       "        ...,\n",
       "        [222., 215., 199.],\n",
       "        [234., 227., 211.],\n",
       "        [208., 184., 140.]],\n",
       "\n",
       "       [[171., 178., 197.],\n",
       "        [174., 181., 197.],\n",
       "        [204.,  41.,  44.],\n",
       "        ...,\n",
       "        [208., 199., 182.],\n",
       "        [223., 215., 196.],\n",
       "        [203., 175., 136.]]], dtype=float32)"
      ]
     },
     "execution_count": 5,
     "metadata": {},
     "output_type": "execute_result"
    }
   ],
   "source": [
    "#Your code here preview an image\n",
    "train_images[0]"
   ]
  },
  {
   "cell_type": "code",
   "execution_count": 6,
   "metadata": {},
   "outputs": [
    {
     "data": {
      "text/plain": [
       "array([[[196., 172., 138.],\n",
       "        [195., 171., 135.],\n",
       "        [195., 170., 130.],\n",
       "        ...,\n",
       "        [198., 171., 141.],\n",
       "        [197., 170., 141.],\n",
       "        [193., 166., 139.]],\n",
       "\n",
       "       [[196., 172., 138.],\n",
       "        [193., 170., 136.],\n",
       "        [193., 169., 133.],\n",
       "        ...,\n",
       "        [196., 171., 141.],\n",
       "        [194., 168., 141.],\n",
       "        [192., 166., 139.]],\n",
       "\n",
       "       [[194., 171., 139.],\n",
       "        [193., 169., 135.],\n",
       "        [192., 168., 132.],\n",
       "        ...,\n",
       "        [196., 171., 141.],\n",
       "        [193., 168., 138.],\n",
       "        [192., 166., 139.]],\n",
       "\n",
       "       ...,\n",
       "\n",
       "       [[131.,  84.,  30.],\n",
       "        [ 81.,  47.,  19.],\n",
       "        [144.,  89.,  35.],\n",
       "        ...,\n",
       "        [ 72.,  45.,  28.],\n",
       "        [ 66.,  43.,  29.],\n",
       "        [ 69.,  43.,  28.]],\n",
       "\n",
       "       [[125.,  82.,  31.],\n",
       "        [131.,  88.,  37.],\n",
       "        [129.,  82.,  28.],\n",
       "        ...,\n",
       "        [ 71.,  44.,  27.],\n",
       "        [ 70.,  43.,  26.],\n",
       "        [ 70.,  44.,  29.]],\n",
       "\n",
       "       [[109.,  65.,  26.],\n",
       "        [108.,  68.,  33.],\n",
       "        [123.,  79.,  30.],\n",
       "        ...,\n",
       "        [ 68.,  45.,  27.],\n",
       "        [ 69.,  43.,  28.],\n",
       "        [ 69.,  43.,  26.]]], dtype=float32)"
      ]
     },
     "execution_count": 6,
     "metadata": {},
     "output_type": "execute_result"
    }
   ],
   "source": [
    "#Your code here preview a second image\n",
    "train_images[1]"
   ]
  },
  {
   "cell_type": "markdown",
   "metadata": {},
   "source": [
    "## The shape of the data"
   ]
  },
  {
   "cell_type": "markdown",
   "metadata": {},
   "source": [
    "Now, let's use `np.shape()` to look at what these numpy arrays look like."
   ]
  },
  {
   "cell_type": "code",
   "execution_count": 7,
   "metadata": {},
   "outputs": [
    {
     "data": {
      "text/plain": [
       "(790, 64, 64, 3)"
      ]
     },
     "execution_count": 7,
     "metadata": {},
     "output_type": "execute_result"
    }
   ],
   "source": [
    "# Preview the shape of both the images and labels for both the train and test set (4 objects total)\n",
    "# Your code here\n",
    "train_images.shape\n"
   ]
  },
  {
   "cell_type": "markdown",
   "metadata": {},
   "source": [
    "##  `train_images` and `test_images`"
   ]
  },
  {
   "cell_type": "markdown",
   "metadata": {},
   "source": [
    "Let's start with `train_images`. From the lecture, you might remember that the expected input shape is $n$ x $l$. How does this relate to what we see here?\n",
    "\n",
    "$l$ denotes the number of observations, or the number of images. The number of images in `train_images` is 790. $n$ is the number of elements in the feature vector for each image, or put differently, $n$ is the number of rows when unrowing the 3 (RGB) 64 x 64 matrices. \n",
    "\n",
    "So, translated to this example, we need to transform our `(790, 64, 64, 3)` matrix to a `(64*64*3, 790)` matrix! Hint: you should use both the `.reshape`-function and a transpose `.T`."
   ]
  },
  {
   "cell_type": "code",
   "execution_count": 8,
   "metadata": {},
   "outputs": [],
   "source": [
    "t_shape = train_images.T.shape\n",
    "train_img_unrow = train_images.T.reshape(np.prod(t_shape[:3]),t_shape[3])#Reshape the train images using the hints above"
   ]
  },
  {
   "cell_type": "markdown",
   "metadata": {},
   "source": [
    "Let's use np.shape on the newly created `train_img_unrow` to verify that the shape is correct."
   ]
  },
  {
   "cell_type": "code",
   "execution_count": 9,
   "metadata": {},
   "outputs": [
    {
     "data": {
      "text/plain": [
       "(12288, 790)"
      ]
     },
     "execution_count": 9,
     "metadata": {},
     "output_type": "execute_result"
    }
   ],
   "source": [
    "train_img_unrow.shape#Your code here; Preview the shape of your new object"
   ]
  },
  {
   "cell_type": "code",
   "execution_count": 10,
   "metadata": {},
   "outputs": [
    {
     "data": {
      "text/plain": [
       "12288"
      ]
     },
     "execution_count": 10,
     "metadata": {},
     "output_type": "execute_result"
    }
   ],
   "source": [
    "np.prod(test_images.shape[1:])"
   ]
  },
  {
   "cell_type": "markdown",
   "metadata": {},
   "source": [
    "Next, let's transform test_images in a similar way. Note that the dimensions are different here! Where we needed to have a matrix shape if $ n$ x $l $ for `train_images`, for `test_images`, we need to get to a shape of $ n$ x $m$. What is $m$ here?"
   ]
  },
  {
   "cell_type": "code",
   "execution_count": 11,
   "metadata": {},
   "outputs": [],
   "source": [
    "m = np.prod(test_images.shape[1:])#Define appropriate m\n",
    "test_img_unrow = test_images.reshape(m, -1).T"
   ]
  },
  {
   "cell_type": "code",
   "execution_count": 12,
   "metadata": {},
   "outputs": [
    {
     "data": {
      "text/plain": [
       "(132, 12288)"
      ]
     },
     "execution_count": 12,
     "metadata": {},
     "output_type": "execute_result"
    }
   ],
   "source": [
    "test_img_unrow.shape#Your code here; Once again preview the shape of your updated object"
   ]
  },
  {
   "cell_type": "markdown",
   "metadata": {},
   "source": [
    "## `train_labels` and `test_labels`"
   ]
  },
  {
   "cell_type": "markdown",
   "metadata": {},
   "source": [
    "Earlier, you noticed that `train_labels` and `test_labels` have shapes of $(790, 2)$ and $(132, 2)$ respectively. In the lecture, we expected $1$ x $l$ and $1$ x $m$.\n",
    "\n",
    "Let's have a closer look."
   ]
  },
  {
   "cell_type": "code",
   "execution_count": 13,
   "metadata": {},
   "outputs": [
    {
     "data": {
      "text/plain": [
       "array([[0., 1.],\n",
       "       [1., 0.],\n",
       "       [0., 1.],\n",
       "       ...,\n",
       "       [1., 0.],\n",
       "       [0., 1.],\n",
       "       [0., 1.]], dtype=float32)"
      ]
     },
     "execution_count": 13,
     "metadata": {},
     "output_type": "execute_result"
    }
   ],
   "source": [
    "train_labels #Run this block of code; no need to edit"
   ]
  },
  {
   "cell_type": "markdown",
   "metadata": {},
   "source": [
    "Looking at this, it's clear that for each observation (or image), train_labels doesn't simply have an output of 1 or 0, but a pair either `[0,1]` or `[1,0]`.\n",
    "\n",
    "Having this information, we still don't know which pair correcponds with `santa` versus `not_santa`. Luckily, what this was stored using `keras.preprocessing_image`, and you can get more info using the command `train_generator.class_indices`."
   ]
  },
  {
   "cell_type": "code",
   "execution_count": 14,
   "metadata": {},
   "outputs": [
    {
     "data": {
      "text/plain": [
       "{'not_santa': 0, 'santa': 1}"
      ]
     },
     "execution_count": 14,
     "metadata": {},
     "output_type": "execute_result"
    }
   ],
   "source": [
    "train_generator.class_indices #Run this block of code; no need to edit"
   ]
  },
  {
   "cell_type": "markdown",
   "metadata": {},
   "source": [
    "Index 0 (the first column) represents `not_santa`, index 1 represents `santa`. Select one of the two columns and transpose the result such that you get a $1$ x $l$ and $1$ x $m$ vector respectively, and value `1` represents `santa`"
   ]
  },
  {
   "cell_type": "code",
   "execution_count": 15,
   "metadata": {},
   "outputs": [],
   "source": [
    "train_labels_final = train_labels.T[[1]]#Your code here"
   ]
  },
  {
   "cell_type": "code",
   "execution_count": 16,
   "metadata": {},
   "outputs": [
    {
     "data": {
      "text/plain": [
       "(1, 790)"
      ]
     },
     "execution_count": 16,
     "metadata": {},
     "output_type": "execute_result"
    }
   ],
   "source": [
    "np.shape(train_labels_final) #Run this block of code; no need to edit"
   ]
  },
  {
   "cell_type": "code",
   "execution_count": 17,
   "metadata": {},
   "outputs": [],
   "source": [
    "test_labels_final = test_labels.T[[1]]\n",
    "# test_labels_final = test_labels[:,1].T.reshape(1,132)#Your code here; same as above but for the test labels."
   ]
  },
  {
   "cell_type": "code",
   "execution_count": 18,
   "metadata": {},
   "outputs": [
    {
     "data": {
      "text/plain": [
       "(1, 132)"
      ]
     },
     "execution_count": 18,
     "metadata": {},
     "output_type": "execute_result"
    }
   ],
   "source": [
    "np.shape(test_labels_final) #Run this block of code; no need to edit"
   ]
  },
  {
   "cell_type": "markdown",
   "metadata": {},
   "source": [
    "As a final sanity check, look at an image and the corresponding label, so we're sure that santa is indeed stored as `1`.\n",
    "\n",
    "- First, use `array_to_image` again on the original `train_images` with index 240 to look at this particular image.\n",
    "- Use train_labels_final to get the 240th label."
   ]
  },
  {
   "cell_type": "code",
   "execution_count": 21,
   "metadata": {},
   "outputs": [
    {
     "data": {
      "image/png": "[encoded data removed]",
      "text/plain": [
       "<PIL.Image.Image image mode=RGB size=64x64 at 0x7F97DE088A58>"
      ]
     },
     "execution_count": 21,
     "metadata": {},
     "output_type": "execute_result"
    }
   ],
   "source": [
    "array_to_img(train_images[245])#Your code here; preview train images 240"
   ]
  },
  {
   "cell_type": "code",
   "execution_count": 22,
   "metadata": {},
   "outputs": [
    {
     "data": {
      "text/plain": [
       "array([1.], dtype=float32)"
      ]
     },
     "execution_count": 22,
     "metadata": {},
     "output_type": "execute_result"
    }
   ],
   "source": [
    "train_labels_final[:,245]#Your code here; preview train labels 240"
   ]
  },
  {
   "cell_type": "markdown",
   "metadata": {},
   "source": [
    "This seems to be correct! Feel free to try out other indices as well."
   ]
  },
  {
   "cell_type": "markdown",
   "metadata": {},
   "source": [
    "## Lastly, you'll want to standardize the data"
   ]
  },
  {
   "cell_type": "markdown",
   "metadata": {},
   "source": [
    "Remember that each RGB pixel in an image takes a value between 0 and 255. In Deep Learning, it is very common to standardize and/or center your data set. For images, a common thing that is done is to make sure each pixel value is between 0 and 1. This can be done by dividing the entire matrix by 255. Do this here for the `train_img_unrow` and `test_img_unrow`."
   ]
  },
  {
   "cell_type": "code",
   "execution_count": 31,
   "metadata": {},
   "outputs": [],
   "source": [
    "#Your code here\n",
    "train_img_final = train_img_unrow/255\n",
    "test_img_final = test_img_unrow/255"
   ]
  },
  {
   "cell_type": "markdown",
   "metadata": {},
   "source": [
    "In what follows, we'll work with `train_img_final`, `test_img_final`, `train_labels_final`, `test_labels_final`."
   ]
  },
  {
   "cell_type": "markdown",
   "metadata": {},
   "source": [
    "## Building a logistic regression-based neural network"
   ]
  },
  {
   "cell_type": "markdown",
   "metadata": {},
   "source": [
    "## Math recap"
   ]
  },
  {
   "cell_type": "markdown",
   "metadata": {},
   "source": [
    "Now we can go ahead and build our own basic logistic regression-based neural network to disctinguish images with Santa from images without Santa. You've seen in the lecture that logistic regression can actually be represented a a very simple neural network.\n",
    "\n",
    "Remember that we defined that, for each $x^{(i)}$:\n",
    "\n",
    "\n",
    "$$ \\mathcal{L}(\\hat y ^{(i)}, y^{(i)}) =  - \\big( y^{(i)} \\log(\\hat y^{(i)}) + (1-y^{(i)} )  \\log(1-\\hat y^{(i)})\\big)$$\n",
    "\n",
    "$$\\hat{y}^{(i)} = \\sigma(z^{(i)}) = \\frac{1}{1 + e^{-(z^{(i)})}}$$ \n",
    "\n",
    "$$z^{(i)} = w^T x^{(i)} + b$$\n",
    "\n",
    "The cost function is then given by:\n",
    "$$J(w,b) = \\dfrac{1}{l}\\displaystyle\\sum^l_{i=1}\\mathcal{L}(\\hat y^{(i)}, y^{(i)})$$"
   ]
  },
  {
   "cell_type": "markdown",
   "metadata": {},
   "source": [
    "In the remainder of this lab, you'll do the following:\n",
    "\n",
    "   - You'll learn how to initialize the parameters of the model\n",
    "   - You'll perform forward propagation, and calculate the current loss\n",
    "   - You'll perform backward propagation (which is basically calculating the current gradient)\n",
    "   - You'll update the parameters (gradient descent)"
   ]
  },
  {
   "cell_type": "markdown",
   "metadata": {},
   "source": [
    "## Parameter initialization"
   ]
  },
  {
   "cell_type": "markdown",
   "metadata": {},
   "source": [
    "$w$ and $b$ are the unknown parameters to start with. We'll initialize them as 0.\n",
    "- remember that $b$ is a scalar\n",
    "- $w$ however, is a vector of shape $n$ x $1$, with $n$ being `horiz_pixel x vertic_pixel x 3`"
   ]
  },
  {
   "cell_type": "markdown",
   "metadata": {},
   "source": [
    "## initialize b"
   ]
  },
  {
   "cell_type": "markdown",
   "metadata": {},
   "source": [
    " Initialize b as a scalar with value 0."
   ]
  },
  {
   "cell_type": "code",
   "execution_count": 24,
   "metadata": {},
   "outputs": [],
   "source": [
    "#Your code here\n",
    "b = 0"
   ]
  },
  {
   "cell_type": "markdown",
   "metadata": {},
   "source": [
    "## Initialize w"
   ]
  },
  {
   "cell_type": "markdown",
   "metadata": {},
   "source": [
    "Create a function `init_w(n)` such that when n is filled out, you get a vector with zeros that has a shape $n$ x $1$."
   ]
  },
  {
   "cell_type": "code",
   "execution_count": 27,
   "metadata": {},
   "outputs": [],
   "source": [
    "#Your code here; define your function\n",
    "def init_w(n):\n",
    "    return np.zeros((n,1))"
   ]
  },
  {
   "cell_type": "code",
   "execution_count": 28,
   "metadata": {},
   "outputs": [],
   "source": [
    "#Your code here; call your function using appropriate parameters\n",
    "w = init_w(64*64*3)"
   ]
  },
  {
   "cell_type": "code",
   "execution_count": 29,
   "metadata": {},
   "outputs": [
    {
     "data": {
      "text/plain": [
       "(12288, 1)"
      ]
     },
     "execution_count": 29,
     "metadata": {},
     "output_type": "execute_result"
    }
   ],
   "source": [
    "w.shape"
   ]
  },
  {
   "cell_type": "markdown",
   "metadata": {},
   "source": [
    "## Forward propagation"
   ]
  },
  {
   "cell_type": "markdown",
   "metadata": {},
   "source": [
    "Forward Propagation:\n",
    "- You get `x`\n",
    "- You compute `y_hat`: \n",
    "$$ (\\hat y^{(1)}, \\hat y^{(2)}, \\ldots , \\hat y^{(l)})= \\sigma(w^T x + b) = \\Biggr(\\dfrac{1}{1+exp(w^T x^{(1)}+ b)},\\ldots, \\dfrac{1}{1+exp(w^T x^{(l)}+ b)}\\Biggr) $$\n",
    "- You calculate the `cost` function: $J(w,b) = -\\dfrac{1}{l}\\displaystyle\\sum_{i=1}^{l}y^{(i)}\\log(\\hat y^{(i)})+(1-y^{(i)})\\log(1-\\hat y^{(i)})$\n",
    "\n",
    "Here are the two formulas you will be using to compute the gradients. Don't be scared off by the mathematics. The long formulas are just to show that this corresponds with what we derived in the lectures!\n",
    "\n",
    "$$ \\frac{dJ(w,b)}{dw} = \\displaystyle\\frac{1}{l}\\displaystyle\\sum^l_{i=1} \\frac{d\\mathcal{L}(\\hat y^{(i)}, y^{(i)})}{dw}= \\displaystyle\\frac{1}{l}\\displaystyle\\sum^l_{i=1} x^{(i)} dz^{(i)}  = \\displaystyle\\frac{1}{l}\\displaystyle\\sum^l_{i=1} x^{(i)}(\\hat y^{(i)}-y^{(i)})  = \\frac{1}{l}x(\\hat y-y)^T$$\n",
    "\n",
    "$$ \\frac{dJ(w,b)}{db} = \\displaystyle\\frac{1}{l}\\displaystyle\\sum^l_{i=1} \\frac{d\\mathcal{L}(\\hat y^{(i)}, y^{(i)})}{db}= \\displaystyle\\frac{1}{l}\\displaystyle\\sum^l_{i=1} dz^{(i)}  = \\displaystyle\\frac{1}{l}\\displaystyle\\sum^l_{i=1} (\\hat y^{(i)}-y^{(i)})$$"
   ]
  },
  {
   "cell_type": "code",
   "execution_count": 30,
   "metadata": {},
   "outputs": [],
   "source": [
    "#Your code here; define the propagation function\n",
    "def propagation(w,b,x,y):\n",
    "    y_hat = 1/(1+np.exp(np.dot(w.T,x) + b))\n",
    "    l = x.shape[1]\n",
    "    cost = (-1/l)*sum(y * np.log(y_hat) + (1-y)*np.log(1-y_hat))\n",
    "    dw = (1/l)*np.dot(x,(y_hat-y).T)\n",
    "    db = (1/l)*sum(y_hat-y)\n",
    "    return dw,db,cost\n",
    "    "
   ]
  },
  {
   "cell_type": "code",
   "execution_count": 32,
   "metadata": {},
   "outputs": [],
   "source": [
    "dw, db, cost = propagation(w,b,train_img_final,train_labels_final)#Your code here; use your propogation function to return d2, db and the associated cost\n"
   ]
  },
  {
   "cell_type": "code",
   "execution_count": 36,
   "metadata": {},
   "outputs": [
    {
     "name": "stdout",
     "output_type": "stream",
     "text": [
      "[-0.00063291  0.00063291 -0.00063291 -0.00063291  0.00063291  0.00063291\n",
      "  0.00063291  0.00063291 -0.00063291  0.00063291  0.00063291 -0.00063291\n",
      " -0.00063291  0.00063291 -0.00063291  0.00063291  0.00063291  0.00063291\n",
      "  0.00063291  0.00063291 -0.00063291  0.00063291 -0.00063291  0.00063291\n",
      "  0.00063291  0.00063291  0.00063291  0.00063291  0.00063291  0.00063291\n",
      " -0.00063291 -0.00063291 -0.00063291 -0.00063291 -0.00063291 -0.00063291\n",
      " -0.00063291  0.00063291 -0.00063291 -0.00063291 -0.00063291  0.00063291\n",
      "  0.00063291  0.00063291 -0.00063291 -0.00063291  0.00063291 -0.00063291\n",
      " -0.00063291 -0.00063291 -0.00063291  0.00063291 -0.00063291  0.00063291\n",
      "  0.00063291 -0.00063291 -0.00063291 -0.00063291  0.00063291  0.00063291\n",
      "  0.00063291 -0.00063291  0.00063291 -0.00063291 -0.00063291  0.00063291\n",
      "  0.00063291  0.00063291  0.00063291 -0.00063291 -0.00063291  0.00063291\n",
      " -0.00063291  0.00063291 -0.00063291 -0.00063291 -0.00063291  0.00063291\n",
      "  0.00063291 -0.00063291  0.00063291 -0.00063291  0.00063291  0.00063291\n",
      " -0.00063291 -0.00063291 -0.00063291 -0.00063291 -0.00063291 -0.00063291\n",
      "  0.00063291 -0.00063291 -0.00063291 -0.00063291  0.00063291 -0.00063291\n",
      "  0.00063291  0.00063291 -0.00063291  0.00063291 -0.00063291 -0.00063291\n",
      " -0.00063291 -0.00063291 -0.00063291  0.00063291  0.00063291  0.00063291\n",
      "  0.00063291  0.00063291  0.00063291  0.00063291  0.00063291 -0.00063291\n",
      " -0.00063291  0.00063291 -0.00063291  0.00063291 -0.00063291 -0.00063291\n",
      "  0.00063291  0.00063291 -0.00063291  0.00063291  0.00063291 -0.00063291\n",
      " -0.00063291  0.00063291  0.00063291 -0.00063291 -0.00063291  0.00063291\n",
      "  0.00063291 -0.00063291  0.00063291  0.00063291 -0.00063291 -0.00063291\n",
      "  0.00063291 -0.00063291 -0.00063291 -0.00063291  0.00063291  0.00063291\n",
      "  0.00063291 -0.00063291  0.00063291 -0.00063291  0.00063291  0.00063291\n",
      " -0.00063291 -0.00063291 -0.00063291 -0.00063291 -0.00063291  0.00063291\n",
      " -0.00063291 -0.00063291  0.00063291  0.00063291 -0.00063291 -0.00063291\n",
      "  0.00063291  0.00063291  0.00063291 -0.00063291 -0.00063291  0.00063291\n",
      "  0.00063291 -0.00063291 -0.00063291  0.00063291  0.00063291 -0.00063291\n",
      " -0.00063291 -0.00063291 -0.00063291 -0.00063291 -0.00063291  0.00063291\n",
      " -0.00063291  0.00063291  0.00063291 -0.00063291 -0.00063291 -0.00063291\n",
      " -0.00063291 -0.00063291  0.00063291 -0.00063291 -0.00063291  0.00063291\n",
      " -0.00063291  0.00063291  0.00063291  0.00063291 -0.00063291  0.00063291\n",
      "  0.00063291 -0.00063291  0.00063291  0.00063291  0.00063291  0.00063291\n",
      "  0.00063291  0.00063291 -0.00063291  0.00063291  0.00063291  0.00063291\n",
      " -0.00063291  0.00063291  0.00063291  0.00063291 -0.00063291 -0.00063291\n",
      " -0.00063291  0.00063291  0.00063291 -0.00063291 -0.00063291 -0.00063291\n",
      " -0.00063291  0.00063291  0.00063291 -0.00063291  0.00063291  0.00063291\n",
      " -0.00063291 -0.00063291 -0.00063291  0.00063291  0.00063291 -0.00063291\n",
      "  0.00063291 -0.00063291  0.00063291  0.00063291 -0.00063291  0.00063291\n",
      "  0.00063291 -0.00063291  0.00063291  0.00063291 -0.00063291 -0.00063291\n",
      "  0.00063291 -0.00063291 -0.00063291 -0.00063291  0.00063291  0.00063291\n",
      " -0.00063291 -0.00063291 -0.00063291 -0.00063291 -0.00063291 -0.00063291\n",
      "  0.00063291  0.00063291  0.00063291  0.00063291 -0.00063291  0.00063291\n",
      "  0.00063291 -0.00063291  0.00063291  0.00063291  0.00063291  0.00063291\n",
      " -0.00063291  0.00063291 -0.00063291 -0.00063291 -0.00063291  0.00063291\n",
      "  0.00063291  0.00063291 -0.00063291  0.00063291  0.00063291  0.00063291\n",
      " -0.00063291 -0.00063291 -0.00063291  0.00063291 -0.00063291 -0.00063291\n",
      " -0.00063291 -0.00063291 -0.00063291 -0.00063291 -0.00063291  0.00063291\n",
      "  0.00063291  0.00063291 -0.00063291  0.00063291  0.00063291 -0.00063291\n",
      " -0.00063291 -0.00063291 -0.00063291 -0.00063291  0.00063291  0.00063291\n",
      " -0.00063291  0.00063291 -0.00063291  0.00063291 -0.00063291 -0.00063291\n",
      "  0.00063291 -0.00063291  0.00063291  0.00063291 -0.00063291 -0.00063291\n",
      "  0.00063291  0.00063291 -0.00063291 -0.00063291 -0.00063291  0.00063291\n",
      " -0.00063291  0.00063291 -0.00063291 -0.00063291  0.00063291  0.00063291\n",
      " -0.00063291 -0.00063291  0.00063291  0.00063291  0.00063291 -0.00063291\n",
      " -0.00063291  0.00063291 -0.00063291  0.00063291  0.00063291  0.00063291\n",
      "  0.00063291 -0.00063291 -0.00063291 -0.00063291 -0.00063291 -0.00063291\n",
      " -0.00063291 -0.00063291 -0.00063291 -0.00063291 -0.00063291 -0.00063291\n",
      "  0.00063291  0.00063291 -0.00063291 -0.00063291 -0.00063291 -0.00063291\n",
      " -0.00063291  0.00063291  0.00063291 -0.00063291  0.00063291  0.00063291\n",
      "  0.00063291  0.00063291 -0.00063291  0.00063291  0.00063291  0.00063291\n",
      "  0.00063291 -0.00063291 -0.00063291  0.00063291  0.00063291 -0.00063291\n",
      " -0.00063291 -0.00063291 -0.00063291 -0.00063291 -0.00063291  0.00063291\n",
      "  0.00063291  0.00063291 -0.00063291  0.00063291 -0.00063291 -0.00063291\n",
      " -0.00063291 -0.00063291 -0.00063291  0.00063291 -0.00063291  0.00063291\n",
      " -0.00063291 -0.00063291 -0.00063291 -0.00063291 -0.00063291  0.00063291\n",
      "  0.00063291 -0.00063291 -0.00063291 -0.00063291  0.00063291 -0.00063291\n",
      " -0.00063291  0.00063291  0.00063291 -0.00063291  0.00063291  0.00063291\n",
      " -0.00063291  0.00063291 -0.00063291  0.00063291  0.00063291 -0.00063291\n",
      " -0.00063291 -0.00063291  0.00063291  0.00063291 -0.00063291 -0.00063291\n",
      " -0.00063291 -0.00063291  0.00063291  0.00063291  0.00063291 -0.00063291\n",
      "  0.00063291 -0.00063291  0.00063291  0.00063291 -0.00063291 -0.00063291\n",
      "  0.00063291 -0.00063291 -0.00063291 -0.00063291  0.00063291  0.00063291\n",
      " -0.00063291 -0.00063291 -0.00063291  0.00063291 -0.00063291  0.00063291\n",
      " -0.00063291  0.00063291  0.00063291 -0.00063291 -0.00063291 -0.00063291\n",
      " -0.00063291  0.00063291  0.00063291  0.00063291 -0.00063291 -0.00063291\n",
      "  0.00063291  0.00063291 -0.00063291 -0.00063291 -0.00063291 -0.00063291\n",
      "  0.00063291 -0.00063291 -0.00063291 -0.00063291  0.00063291 -0.00063291\n",
      "  0.00063291  0.00063291 -0.00063291 -0.00063291  0.00063291  0.00063291\n",
      " -0.00063291  0.00063291 -0.00063291  0.00063291 -0.00063291  0.00063291\n",
      " -0.00063291  0.00063291 -0.00063291 -0.00063291 -0.00063291  0.00063291\n",
      "  0.00063291  0.00063291 -0.00063291 -0.00063291 -0.00063291 -0.00063291\n",
      " -0.00063291 -0.00063291 -0.00063291  0.00063291  0.00063291  0.00063291\n",
      " -0.00063291 -0.00063291  0.00063291 -0.00063291  0.00063291 -0.00063291\n",
      " -0.00063291  0.00063291 -0.00063291  0.00063291  0.00063291 -0.00063291\n",
      " -0.00063291  0.00063291 -0.00063291 -0.00063291 -0.00063291  0.00063291\n",
      "  0.00063291  0.00063291  0.00063291  0.00063291 -0.00063291 -0.00063291\n",
      "  0.00063291  0.00063291 -0.00063291 -0.00063291 -0.00063291 -0.00063291\n",
      "  0.00063291  0.00063291 -0.00063291  0.00063291 -0.00063291 -0.00063291\n",
      " -0.00063291  0.00063291 -0.00063291  0.00063291 -0.00063291 -0.00063291\n",
      " -0.00063291 -0.00063291 -0.00063291  0.00063291 -0.00063291  0.00063291\n",
      "  0.00063291  0.00063291 -0.00063291 -0.00063291 -0.00063291  0.00063291\n",
      " -0.00063291  0.00063291  0.00063291  0.00063291 -0.00063291 -0.00063291\n",
      " -0.00063291  0.00063291 -0.00063291  0.00063291  0.00063291 -0.00063291\n",
      "  0.00063291  0.00063291  0.00063291  0.00063291 -0.00063291 -0.00063291\n",
      "  0.00063291  0.00063291  0.00063291 -0.00063291 -0.00063291 -0.00063291\n",
      " -0.00063291  0.00063291 -0.00063291  0.00063291  0.00063291  0.00063291\n",
      " -0.00063291 -0.00063291  0.00063291 -0.00063291  0.00063291  0.00063291\n",
      "  0.00063291  0.00063291  0.00063291  0.00063291  0.00063291 -0.00063291\n",
      "  0.00063291 -0.00063291  0.00063291 -0.00063291  0.00063291  0.00063291\n",
      "  0.00063291 -0.00063291  0.00063291  0.00063291 -0.00063291  0.00063291\n",
      " -0.00063291 -0.00063291 -0.00063291  0.00063291 -0.00063291 -0.00063291\n",
      "  0.00063291  0.00063291  0.00063291  0.00063291  0.00063291  0.00063291\n",
      " -0.00063291 -0.00063291 -0.00063291  0.00063291  0.00063291  0.00063291\n",
      " -0.00063291  0.00063291  0.00063291  0.00063291  0.00063291  0.00063291\n",
      "  0.00063291 -0.00063291 -0.00063291 -0.00063291 -0.00063291  0.00063291\n",
      " -0.00063291  0.00063291 -0.00063291 -0.00063291  0.00063291  0.00063291\n",
      "  0.00063291  0.00063291 -0.00063291  0.00063291  0.00063291 -0.00063291\n",
      "  0.00063291  0.00063291 -0.00063291 -0.00063291  0.00063291  0.00063291\n",
      " -0.00063291  0.00063291  0.00063291 -0.00063291  0.00063291  0.00063291\n",
      " -0.00063291 -0.00063291 -0.00063291 -0.00063291  0.00063291  0.00063291\n",
      " -0.00063291 -0.00063291  0.00063291  0.00063291  0.00063291 -0.00063291\n",
      "  0.00063291 -0.00063291  0.00063291  0.00063291  0.00063291 -0.00063291\n",
      "  0.00063291  0.00063291 -0.00063291 -0.00063291 -0.00063291  0.00063291\n",
      "  0.00063291 -0.00063291 -0.00063291 -0.00063291  0.00063291  0.00063291\n",
      "  0.00063291  0.00063291 -0.00063291  0.00063291  0.00063291  0.00063291\n",
      " -0.00063291 -0.00063291 -0.00063291 -0.00063291  0.00063291  0.00063291\n",
      " -0.00063291  0.00063291  0.00063291  0.00063291  0.00063291  0.00063291\n",
      "  0.00063291 -0.00063291  0.00063291  0.00063291 -0.00063291  0.00063291\n",
      "  0.00063291  0.00063291  0.00063291  0.00063291  0.00063291  0.00063291\n",
      " -0.00063291 -0.00063291 -0.00063291  0.00063291  0.00063291 -0.00063291\n",
      " -0.00063291  0.00063291 -0.00063291 -0.00063291  0.00063291 -0.00063291\n",
      " -0.00063291 -0.00063291 -0.00063291 -0.00063291 -0.00063291  0.00063291\n",
      " -0.00063291 -0.00063291 -0.00063291  0.00063291  0.00063291  0.00063291\n",
      " -0.00063291  0.00063291 -0.00063291 -0.00063291  0.00063291  0.00063291\n",
      "  0.00063291 -0.00063291 -0.00063291 -0.00063291  0.00063291 -0.00063291\n",
      " -0.00063291 -0.00063291 -0.00063291 -0.00063291  0.00063291  0.00063291\n",
      " -0.00063291  0.00063291 -0.00063291 -0.00063291  0.00063291 -0.00063291\n",
      "  0.00063291 -0.00063291 -0.00063291 -0.00063291  0.00063291 -0.00063291\n",
      "  0.00063291  0.00063291  0.00063291 -0.00063291  0.00063291  0.00063291\n",
      " -0.00063291  0.00063291 -0.00063291 -0.00063291]\n"
     ]
    }
   ],
   "source": [
    "# print(dw)\n",
    "\n",
    "print(db)\n",
    "\n",
    "# print(cost)"
   ]
  },
  {
   "cell_type": "markdown",
   "metadata": {},
   "source": [
    "## Optimization"
   ]
  },
  {
   "cell_type": "markdown",
   "metadata": {},
   "source": [
    "Next, in the optimization step, we have to update $w$ and $b$ as follows:\n",
    "\n",
    "$$w := w - \\alpha * dw$$\n",
    "$$b := b - \\alpha * db$$\n",
    "\n",
    "Note that this `optimization` function also takes in the propagation function. It loops over the `propagation` function in each iteration, and updates both $w$ and $b$ right after that! "
   ]
  },
  {
   "cell_type": "code",
   "execution_count": null,
   "metadata": {},
   "outputs": [],
   "source": [
    "#Complete the function below using your propogation function to define dw, db and cost. \n",
    "#Then use the formula above to update w and b in the optimization function.\n",
    "def optimization(w, b, x, y, num_iterations, learning_rate, print_cost = False):\n",
    "    \n",
    "    costs = []\n",
    "    \n",
    "    for i in range(num_iterations):\n",
    "        dw, db, cost = #Your code here\n",
    "        w = #Your code here\n",
    "        b = #Your code here\n",
    "        \n",
    "        # Record the costs and print them every 50 iterations\n",
    "        if i % 50 == 0:\n",
    "            costs.append(cost)\n",
    "        if print_cost and i % 50 == 0:\n",
    "            print (\"Cost after iteration %i: %f\" %(i, cost))\n",
    "    \n",
    "    return w, b, costs"
   ]
  },
  {
   "cell_type": "code",
   "execution_count": null,
   "metadata": {},
   "outputs": [],
   "source": [
    "#Run this block of code as is\n",
    "w, b, costs = optimization(w, b, train_img_final, train_labels_final, num_iterations= 151, learning_rate = 0.0001, print_cost = True)"
   ]
  },
  {
   "cell_type": "markdown",
   "metadata": {},
   "source": [
    "## Make label predictions: Santa or not?"
   ]
  },
  {
   "cell_type": "markdown",
   "metadata": {},
   "source": [
    "Next, let's create a function that makes label predictions. We'll later use this when we will look at our Santa pictures. What we want, is a label that is equal to 1 when the predicted $y$ is bigger than 0.5, and 0 otherwise."
   ]
  },
  {
   "cell_type": "code",
   "execution_count": null,
   "metadata": {},
   "outputs": [],
   "source": [
    "def prediction(w, b, x):\n",
    "    l = x.shape[1]\n",
    "    y_prediction = #Initialize a prediction vector\n",
    "    w = w.reshape(x.shape[0], 1)\n",
    "    y_hat = #Your code here; the sigmoid function given w, b and x\n",
    "    p = y_hat\n",
    "    \n",
    "    for i in range(y_hat.shape[1]):\n",
    "        #Transform the probability into a binary classification using 0.5 as the cutoff\n",
    "    return y_prediction"
   ]
  },
  {
   "cell_type": "markdown",
   "metadata": {},
   "source": [
    "Let's try this out on a small example. Make sure to have 4 predictions in your output here!"
   ]
  },
  {
   "cell_type": "code",
   "execution_count": null,
   "metadata": {},
   "outputs": [],
   "source": [
    "#Run this block of code as is\n",
    "w = np.array([[0.035],[0.123],[0.217]])\n",
    "b = 0.2\n",
    "x = np.array([[0.2,0.4,-1.2,-2],[1,-2.,0.1,-1],[0.2,0.4,-1.2,-2]])\n",
    "\n",
    "prediction(w,b,x)"
   ]
  },
  {
   "cell_type": "markdown",
   "metadata": {},
   "source": [
    "## The overall model"
   ]
  },
  {
   "cell_type": "markdown",
   "metadata": {},
   "source": [
    "Now, let's build the overall model!"
   ]
  },
  {
   "cell_type": "code",
   "execution_count": null,
   "metadata": {},
   "outputs": [],
   "source": [
    "#This code is provided to you as is, but should be carefully reviewed.\n",
    "def model(x_train, y_train, x_test, y_test, num_iterations = 2000, learning_rate = 0.5, print_cost = False):\n",
    "\n",
    "    b = 0\n",
    "    w = init_w(np.shape(x_train)[0]) \n",
    "\n",
    "    # Gradient descent (≈ 1 line of code)\n",
    "    w, b, costs = optimization(w, b, x_train, y_train, num_iterations, learning_rate, print_cost)\n",
    "    \n",
    "    y_pred_test = prediction(w, b, x_test)\n",
    "    y_pred_train = prediction(w, b, x_train)\n",
    "\n",
    "    # Print train/test Errors\n",
    "    print(\"train accuracy: {} %\".format(100 - np.mean(np.abs(y_pred_train - y_train)) * 100))\n",
    "    print(\"test accuracy: {} %\".format(100 - np.mean(np.abs(y_pred_test - y_test)) * 100))\n",
    "\n",
    "    output = {\"costs\": costs,\n",
    "         \"y_pred_test\": y_pred_test, \n",
    "         \"y_pred_train\" : y_pred_train, \n",
    "         \"w\" : w, \n",
    "         \"b\" : b,\n",
    "         \"learning_rate\" : learning_rate,\n",
    "         \"num_iterations\": num_iterations}\n",
    "    \n",
    "    return output"
   ]
  },
  {
   "cell_type": "code",
   "execution_count": null,
   "metadata": {},
   "outputs": [],
   "source": [
    "#Run the model!\n",
    "output = model(train_img_final, train_labels_final, test_img_final, test_img_final, num_iterations = 2000, learning_rate = 0.005, print_cost = True)"
   ]
  },
  {
   "cell_type": "markdown",
   "metadata": {},
   "source": [
    "## Summary\n",
    "\n",
    "Well done! In this lab you implemented your first neural network in order to identify images of Santa! In upcoming labs you'll see how to extend your neural networks to include a larger number of layers and how to then successively prune these complex schemas to improve test and train accuracies."
   ]
  }
 ],
 "metadata": {
  "kernelspec": {
   "display_name": "Python 3",
   "language": "python",
   "name": "python3"
  },
  "language_info": {
   "codemirror_mode": {
    "name": "ipython",
    "version": 3
   },
   "file_extension": ".py",
   "mimetype": "text/x-python",
   "name": "python",
   "nbconvert_exporter": "python",
   "pygments_lexer": "ipython3",
   "version": "3.6.6"
  }
 },
 "nbformat": 4,
 "nbformat_minor": 2
}
